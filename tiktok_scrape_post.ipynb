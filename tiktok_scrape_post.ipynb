{
 "cells": [
  {
   "cell_type": "code",
   "execution_count": 6,
   "id": "5f715b77",
   "metadata": {},
   "outputs": [],
   "source": [
    "from random import randint\n",
    "from tkinter import Y\n",
    "from unicodedata import name\n",
    "from xml.dom.minidom import Element\n",
    "from selenium import webdriver\n",
    "from selenium.webdriver.common.by import By\n",
    "import time\n",
    "import json\n",
    "from datetime import datetime \n",
    "\n",
    "# import urllib.request, socket\n",
    "# socket.setdefaulttimeout(100)\n",
    "\n",
    "import gspread\n",
    "import pandas as pd\n",
    "from oauth2client.service_account import ServiceAccountCredentials\n",
    "\n",
    "dt = datetime.now().strftime(\"%Y-%m-%d-%H_%M_%S\")\n",
    "path = \"chromedriver.exe\""
   ]
  },
  {
   "cell_type": "code",
   "execution_count": 7,
   "id": "8578be98",
   "metadata": {},
   "outputs": [],
   "source": [
    "def process_number(x):\n",
    "    if type(x)==str:\n",
    "        if x[-1]=='M':\n",
    "            number = float(x[:-1])*1000000\n",
    "            return number\n",
    "        elif x[-1]=='K':\n",
    "            number = float(x[:-1])*1000\n",
    "            return number\n",
    "        elif x[-1]=='B':\n",
    "            number = float(x[:-1])*1000000000\n",
    "            return number\n",
    "        else:\n",
    "            number = float(x)\n",
    "            return number\n",
    "    else:\n",
    "        return x"
   ]
  },
  {
   "cell_type": "code",
   "execution_count": 8,
   "id": "59d5387d",
   "metadata": {},
   "outputs": [
    {
     "name": "stderr",
     "output_type": "stream",
     "text": [
      "C:\\Users\\Walid\\AppData\\Local\\Temp/ipykernel_15240/1363202934.py:13: DeprecationWarning: executable_path has been deprecated, please pass in a Service object\n",
      "  driver = webdriver.Chrome(path, options=op)\n"
     ]
    }
   ],
   "source": [
    "op = webdriver.ChromeOptions()\n",
    "# op.add_argument('headless')\n",
    "op.add_experimental_option(\"excludeSwitches\", [\"enable-logging\"])\n",
    "# from fake_useragent import UserAgent\n",
    "# ua = UserAgent()\n",
    "# user_agent = ua.random\n",
    "# # PROXY = verifyFetchProxy()\n",
    "# op.add_argument(f'user-agent={user_agent}')\n",
    "op.add_experimental_option(\"excludeSwitches\", [\"enable-automation\"])\n",
    "op.add_experimental_option('useAutomationExtension', False)\n",
    "op.add_argument('--disable-blink-features=AutomationControlled')\n",
    "# op.add_argument('--proxy-server=%s' % '51.103.27.73:8000')\n",
    "driver = webdriver.Chrome(path, options=op)\n",
    "driver.set_window_size(1920, 1080)\n",
    "driver.get(\"https://www.tiktok.com/@laurasiburian?lang=en\")"
   ]
  },
  {
   "cell_type": "code",
   "execution_count": 9,
   "id": "e31c11ad",
   "metadata": {},
   "outputs": [],
   "source": [
    "contents = driver.find_elements(By.CLASS_NAME, \"tiktok-x6y88p-DivItemContainerV2\")"
   ]
  },
  {
   "cell_type": "code",
   "execution_count": 10,
   "id": "20dddafe",
   "metadata": {},
   "outputs": [
    {
     "ename": "NoSuchElementException",
     "evalue": "Message: no such element: Unable to locate element: {\"method\":\"xpath\",\"selector\":\"//*[@id=\"app\"]/div[2]/div[2]/div/div[2]/div[2]/div/div[4]/div[1]/div/div/a\"}\n  (Session info: chrome=113.0.5672.127)\nStacktrace:\nBacktrace:\n\tGetHandleVerifier [0x00FA8893+48451]\n\t(No symbol) [0x00F3B8A1]\n\t(No symbol) [0x00E45058]\n\t(No symbol) [0x00E70467]\n\t(No symbol) [0x00E7069B]\n\t(No symbol) [0x00E69631]\n\t(No symbol) [0x00E8A304]\n\t(No symbol) [0x00E69586]\n\t(No symbol) [0x00E8A614]\n\t(No symbol) [0x00E9C482]\n\t(No symbol) [0x00E8A0B6]\n\t(No symbol) [0x00E67E08]\n\t(No symbol) [0x00E68F2D]\n\tGetHandleVerifier [0x01208E3A+2540266]\n\tGetHandleVerifier [0x01248959+2801161]\n\tGetHandleVerifier [0x0124295C+2776588]\n\tGetHandleVerifier [0x01032280+612144]\n\t(No symbol) [0x00F44F6C]\n\t(No symbol) [0x00F411D8]\n\t(No symbol) [0x00F412BB]\n\t(No symbol) [0x00F34857]\n\tBaseThreadInitThunk [0x76B800C9+25]\n\tRtlGetAppContainerNamedObjectPath [0x77097B4E+286]\n\tRtlGetAppContainerNamedObjectPath [0x77097B1E+238]\n",
     "output_type": "error",
     "traceback": [
      "\u001b[1;31m---------------------------------------------------------------------------\u001b[0m",
      "\u001b[1;31mNoSuchElementException\u001b[0m                    Traceback (most recent call last)",
      "\u001b[1;32m~\\AppData\\Local\\Temp/ipykernel_15240/1498624278.py\u001b[0m in \u001b[0;36m<module>\u001b[1;34m\u001b[0m\n\u001b[0;32m      1\u001b[0m \u001b[0mpost_details\u001b[0m \u001b[1;33m=\u001b[0m \u001b[1;33m[\u001b[0m\u001b[1;33m]\u001b[0m\u001b[1;33m\u001b[0m\u001b[1;33m\u001b[0m\u001b[0m\n\u001b[0;32m      2\u001b[0m \u001b[1;32mfor\u001b[0m \u001b[0mcontent\u001b[0m \u001b[1;32min\u001b[0m \u001b[0mcontents\u001b[0m\u001b[1;33m:\u001b[0m\u001b[1;33m\u001b[0m\u001b[1;33m\u001b[0m\u001b[0m\n\u001b[1;32m----> 3\u001b[1;33m     \u001b[0mcontent_url\u001b[0m \u001b[1;33m=\u001b[0m \u001b[0mcontent\u001b[0m\u001b[1;33m.\u001b[0m\u001b[0mfind_element\u001b[0m\u001b[1;33m(\u001b[0m\u001b[0mBy\u001b[0m\u001b[1;33m.\u001b[0m\u001b[0mXPATH\u001b[0m\u001b[1;33m,\u001b[0m \u001b[1;34m'//*[@id=\"app\"]/div[2]/div[2]/div/div[2]/div[2]/div/div[4]/div[1]/div/div/a'\u001b[0m\u001b[1;33m)\u001b[0m\u001b[1;33m.\u001b[0m\u001b[0mget_attribute\u001b[0m\u001b[1;33m(\u001b[0m\u001b[1;34m'href'\u001b[0m\u001b[1;33m)\u001b[0m\u001b[1;33m\u001b[0m\u001b[1;33m\u001b[0m\u001b[0m\n\u001b[0m\u001b[0;32m      4\u001b[0m     \u001b[0mcontent_views\u001b[0m \u001b[1;33m=\u001b[0m \u001b[0mcontent\u001b[0m\u001b[1;33m.\u001b[0m\u001b[0mfind_element\u001b[0m\u001b[1;33m(\u001b[0m\u001b[0mBy\u001b[0m\u001b[1;33m.\u001b[0m\u001b[0mCLASS_NAME\u001b[0m\u001b[1;33m,\u001b[0m\u001b[1;34m\"e148ts222\"\u001b[0m\u001b[1;33m)\u001b[0m\u001b[1;33m.\u001b[0m\u001b[0mtext\u001b[0m\u001b[1;33m\u001b[0m\u001b[1;33m\u001b[0m\u001b[0m\n\u001b[0;32m      5\u001b[0m     \u001b[1;32mtry\u001b[0m\u001b[1;33m:\u001b[0m\u001b[1;33m\u001b[0m\u001b[1;33m\u001b[0m\u001b[0m\n",
      "\u001b[1;32m~\\anaconda3\\lib\\site-packages\\selenium\\webdriver\\remote\\webelement.py\u001b[0m in \u001b[0;36mfind_element\u001b[1;34m(self, by, value)\u001b[0m\n\u001b[0;32m    417\u001b[0m             \u001b[0mvalue\u001b[0m \u001b[1;33m=\u001b[0m \u001b[1;34m'[name=\"%s\"]'\u001b[0m \u001b[1;33m%\u001b[0m \u001b[0mvalue\u001b[0m\u001b[1;33m\u001b[0m\u001b[1;33m\u001b[0m\u001b[0m\n\u001b[0;32m    418\u001b[0m \u001b[1;33m\u001b[0m\u001b[0m\n\u001b[1;32m--> 419\u001b[1;33m         return self._execute(Command.FIND_CHILD_ELEMENT,\n\u001b[0m\u001b[0;32m    420\u001b[0m                              {\"using\": by, \"value\": value})['value']\n\u001b[0;32m    421\u001b[0m \u001b[1;33m\u001b[0m\u001b[0m\n",
      "\u001b[1;32m~\\anaconda3\\lib\\site-packages\\selenium\\webdriver\\remote\\webelement.py\u001b[0m in \u001b[0;36m_execute\u001b[1;34m(self, command, params)\u001b[0m\n\u001b[0;32m    394\u001b[0m             \u001b[0mparams\u001b[0m \u001b[1;33m=\u001b[0m \u001b[1;33m{\u001b[0m\u001b[1;33m}\u001b[0m\u001b[1;33m\u001b[0m\u001b[1;33m\u001b[0m\u001b[0m\n\u001b[0;32m    395\u001b[0m         \u001b[0mparams\u001b[0m\u001b[1;33m[\u001b[0m\u001b[1;34m'id'\u001b[0m\u001b[1;33m]\u001b[0m \u001b[1;33m=\u001b[0m \u001b[0mself\u001b[0m\u001b[1;33m.\u001b[0m\u001b[0m_id\u001b[0m\u001b[1;33m\u001b[0m\u001b[1;33m\u001b[0m\u001b[0m\n\u001b[1;32m--> 396\u001b[1;33m         \u001b[1;32mreturn\u001b[0m \u001b[0mself\u001b[0m\u001b[1;33m.\u001b[0m\u001b[0m_parent\u001b[0m\u001b[1;33m.\u001b[0m\u001b[0mexecute\u001b[0m\u001b[1;33m(\u001b[0m\u001b[0mcommand\u001b[0m\u001b[1;33m,\u001b[0m \u001b[0mparams\u001b[0m\u001b[1;33m)\u001b[0m\u001b[1;33m\u001b[0m\u001b[1;33m\u001b[0m\u001b[0m\n\u001b[0m\u001b[0;32m    397\u001b[0m \u001b[1;33m\u001b[0m\u001b[0m\n\u001b[0;32m    398\u001b[0m     \u001b[1;32mdef\u001b[0m \u001b[0mfind_element\u001b[0m\u001b[1;33m(\u001b[0m\u001b[0mself\u001b[0m\u001b[1;33m,\u001b[0m \u001b[0mby\u001b[0m\u001b[1;33m=\u001b[0m\u001b[0mBy\u001b[0m\u001b[1;33m.\u001b[0m\u001b[0mID\u001b[0m\u001b[1;33m,\u001b[0m \u001b[0mvalue\u001b[0m\u001b[1;33m=\u001b[0m\u001b[1;32mNone\u001b[0m\u001b[1;33m)\u001b[0m \u001b[1;33m->\u001b[0m \u001b[0mWebElement\u001b[0m\u001b[1;33m:\u001b[0m\u001b[1;33m\u001b[0m\u001b[1;33m\u001b[0m\u001b[0m\n",
      "\u001b[1;32m~\\anaconda3\\lib\\site-packages\\selenium\\webdriver\\remote\\webdriver.py\u001b[0m in \u001b[0;36mexecute\u001b[1;34m(self, driver_command, params)\u001b[0m\n\u001b[0;32m    426\u001b[0m         \u001b[0mresponse\u001b[0m \u001b[1;33m=\u001b[0m \u001b[0mself\u001b[0m\u001b[1;33m.\u001b[0m\u001b[0mcommand_executor\u001b[0m\u001b[1;33m.\u001b[0m\u001b[0mexecute\u001b[0m\u001b[1;33m(\u001b[0m\u001b[0mdriver_command\u001b[0m\u001b[1;33m,\u001b[0m \u001b[0mparams\u001b[0m\u001b[1;33m)\u001b[0m\u001b[1;33m\u001b[0m\u001b[1;33m\u001b[0m\u001b[0m\n\u001b[0;32m    427\u001b[0m         \u001b[1;32mif\u001b[0m \u001b[0mresponse\u001b[0m\u001b[1;33m:\u001b[0m\u001b[1;33m\u001b[0m\u001b[1;33m\u001b[0m\u001b[0m\n\u001b[1;32m--> 428\u001b[1;33m             \u001b[0mself\u001b[0m\u001b[1;33m.\u001b[0m\u001b[0merror_handler\u001b[0m\u001b[1;33m.\u001b[0m\u001b[0mcheck_response\u001b[0m\u001b[1;33m(\u001b[0m\u001b[0mresponse\u001b[0m\u001b[1;33m)\u001b[0m\u001b[1;33m\u001b[0m\u001b[1;33m\u001b[0m\u001b[0m\n\u001b[0m\u001b[0;32m    429\u001b[0m             response['value'] = self._unwrap_value(\n\u001b[0;32m    430\u001b[0m                 response.get('value', None))\n",
      "\u001b[1;32m~\\anaconda3\\lib\\site-packages\\selenium\\webdriver\\remote\\errorhandler.py\u001b[0m in \u001b[0;36mcheck_response\u001b[1;34m(self, response)\u001b[0m\n\u001b[0;32m    241\u001b[0m                 \u001b[0malert_text\u001b[0m \u001b[1;33m=\u001b[0m \u001b[0mvalue\u001b[0m\u001b[1;33m[\u001b[0m\u001b[1;34m'alert'\u001b[0m\u001b[1;33m]\u001b[0m\u001b[1;33m.\u001b[0m\u001b[0mget\u001b[0m\u001b[1;33m(\u001b[0m\u001b[1;34m'text'\u001b[0m\u001b[1;33m)\u001b[0m\u001b[1;33m\u001b[0m\u001b[1;33m\u001b[0m\u001b[0m\n\u001b[0;32m    242\u001b[0m             \u001b[1;32mraise\u001b[0m \u001b[0mexception_class\u001b[0m\u001b[1;33m(\u001b[0m\u001b[0mmessage\u001b[0m\u001b[1;33m,\u001b[0m \u001b[0mscreen\u001b[0m\u001b[1;33m,\u001b[0m \u001b[0mstacktrace\u001b[0m\u001b[1;33m,\u001b[0m \u001b[0malert_text\u001b[0m\u001b[1;33m)\u001b[0m  \u001b[1;31m# type: ignore[call-arg]  # mypy is not smart enough here\u001b[0m\u001b[1;33m\u001b[0m\u001b[1;33m\u001b[0m\u001b[0m\n\u001b[1;32m--> 243\u001b[1;33m         \u001b[1;32mraise\u001b[0m \u001b[0mexception_class\u001b[0m\u001b[1;33m(\u001b[0m\u001b[0mmessage\u001b[0m\u001b[1;33m,\u001b[0m \u001b[0mscreen\u001b[0m\u001b[1;33m,\u001b[0m \u001b[0mstacktrace\u001b[0m\u001b[1;33m)\u001b[0m\u001b[1;33m\u001b[0m\u001b[1;33m\u001b[0m\u001b[0m\n\u001b[0m",
      "\u001b[1;31mNoSuchElementException\u001b[0m: Message: no such element: Unable to locate element: {\"method\":\"xpath\",\"selector\":\"//*[@id=\"app\"]/div[2]/div[2]/div/div[2]/div[2]/div/div[4]/div[1]/div/div/a\"}\n  (Session info: chrome=113.0.5672.127)\nStacktrace:\nBacktrace:\n\tGetHandleVerifier [0x00FA8893+48451]\n\t(No symbol) [0x00F3B8A1]\n\t(No symbol) [0x00E45058]\n\t(No symbol) [0x00E70467]\n\t(No symbol) [0x00E7069B]\n\t(No symbol) [0x00E69631]\n\t(No symbol) [0x00E8A304]\n\t(No symbol) [0x00E69586]\n\t(No symbol) [0x00E8A614]\n\t(No symbol) [0x00E9C482]\n\t(No symbol) [0x00E8A0B6]\n\t(No symbol) [0x00E67E08]\n\t(No symbol) [0x00E68F2D]\n\tGetHandleVerifier [0x01208E3A+2540266]\n\tGetHandleVerifier [0x01248959+2801161]\n\tGetHandleVerifier [0x0124295C+2776588]\n\tGetHandleVerifier [0x01032280+612144]\n\t(No symbol) [0x00F44F6C]\n\t(No symbol) [0x00F411D8]\n\t(No symbol) [0x00F412BB]\n\t(No symbol) [0x00F34857]\n\tBaseThreadInitThunk [0x76B800C9+25]\n\tRtlGetAppContainerNamedObjectPath [0x77097B4E+286]\n\tRtlGetAppContainerNamedObjectPath [0x77097B1E+238]\n"
     ]
    }
   ],
   "source": [
    "post_details = []\n",
    "for content in contents:\n",
    "    content_url = content.find_element(By.XPATH, '//*[@id=\"app\"]/div[2]/div[2]/div/div[2]/div[2]/div/div[4]/div[1]/div/div/a').get_attribute('href')\n",
    "    content_views = content.find_element(By.CLASS_NAME,\"e148ts222\").text\n",
    "    try:\n",
    "        content_title = content.find_element(By.CLASS_NAME, \"eih2qak0\").accessible_name\n",
    "        words = content_title.split(\" \")\n",
    "        hashtags = \"\"\n",
    "        for word in words:\n",
    "            if (word[0]==\"#\"):\n",
    "                hashtags+=word\n",
    "                \n",
    "        hashtag_words = hashtags.split(\"#\")\n",
    "        content_title = []\n",
    "        for word in hashtag_words:\n",
    "            if word!=\"\":\n",
    "                content_title.append(\"#\"+word)\n",
    "    except:\n",
    "        content_title = []\n",
    "    \n",
    "    post_detail = {\n",
    "        'post_url':content_url,\n",
    "        'post_views': process_number(content_views),\n",
    "        'post_hashtags':content_title\n",
    "    }\n",
    "    \n",
    "    post_details.append(post_detail)\n",
    "    "
   ]
  },
  {
   "cell_type": "code",
   "execution_count": 11,
   "id": "27ec374f",
   "metadata": {},
   "outputs": [
    {
     "data": {
      "text/plain": [
       "[]"
      ]
     },
     "execution_count": 11,
     "metadata": {},
     "output_type": "execute_result"
    }
   ],
   "source": [
    "post_details"
   ]
  },
  {
   "cell_type": "code",
   "execution_count": null,
   "id": "437db123",
   "metadata": {},
   "outputs": [],
   "source": []
  }
 ],
 "metadata": {
  "kernelspec": {
   "display_name": "Python 3 (ipykernel)",
   "language": "python",
   "name": "python3"
  },
  "language_info": {
   "codemirror_mode": {
    "name": "ipython",
    "version": 3
   },
   "file_extension": ".py",
   "mimetype": "text/x-python",
   "name": "python",
   "nbconvert_exporter": "python",
   "pygments_lexer": "ipython3",
   "version": "3.9.7"
  }
 },
 "nbformat": 4,
 "nbformat_minor": 5
}
